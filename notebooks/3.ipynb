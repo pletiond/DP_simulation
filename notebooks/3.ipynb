{
 "cells": [
  {
   "cell_type": "code",
   "execution_count": 2,
   "metadata": {},
   "outputs": [],
   "source": [
    "import numpy as np\n",
    "import pandas as pd\n",
    "import matplotlib.pyplot as plt\n",
    "import seaborn as sns\n",
    "sns.set(style=\"darkgrid\")"
   ]
  },
  {
   "cell_type": "code",
   "execution_count": 3,
   "metadata": {},
   "outputs": [
    {
     "data": {
      "text/html": [
       "<div>\n",
       "<style scoped>\n",
       "    .dataframe tbody tr th:only-of-type {\n",
       "        vertical-align: middle;\n",
       "    }\n",
       "\n",
       "    .dataframe tbody tr th {\n",
       "        vertical-align: top;\n",
       "    }\n",
       "\n",
       "    .dataframe thead th {\n",
       "        text-align: right;\n",
       "    }\n",
       "</style>\n",
       "<table border=\"1\" class=\"dataframe\">\n",
       "  <thead>\n",
       "    <tr style=\"text-align: right;\">\n",
       "      <th></th>\n",
       "      <th>task_id</th>\n",
       "      <th>start</th>\n",
       "      <th>end</th>\n",
       "      <th>in_time</th>\n",
       "      <th>assign_time</th>\n",
       "      <th>complete_time</th>\n",
       "      <th>car_id</th>\n",
       "      <th>is_VIP</th>\n",
       "      <th>diff</th>\n",
       "      <th>diff_assign</th>\n",
       "    </tr>\n",
       "  </thead>\n",
       "  <tbody>\n",
       "    <tr>\n",
       "      <th>0</th>\n",
       "      <td>2</td>\n",
       "      <td>(1, 11)</td>\n",
       "      <td>(5, 9)</td>\n",
       "      <td>0</td>\n",
       "      <td>0</td>\n",
       "      <td>6</td>\n",
       "      <td>14</td>\n",
       "      <td>False</td>\n",
       "      <td>6</td>\n",
       "      <td>0</td>\n",
       "    </tr>\n",
       "    <tr>\n",
       "      <th>1</th>\n",
       "      <td>12</td>\n",
       "      <td>(7, 11)</td>\n",
       "      <td>(3, 13)</td>\n",
       "      <td>0</td>\n",
       "      <td>0</td>\n",
       "      <td>6</td>\n",
       "      <td>21</td>\n",
       "      <td>False</td>\n",
       "      <td>6</td>\n",
       "      <td>0</td>\n",
       "    </tr>\n",
       "    <tr>\n",
       "      <th>2</th>\n",
       "      <td>3</td>\n",
       "      <td>(13, 3)</td>\n",
       "      <td>(7, 6)</td>\n",
       "      <td>0</td>\n",
       "      <td>0</td>\n",
       "      <td>9</td>\n",
       "      <td>24</td>\n",
       "      <td>False</td>\n",
       "      <td>9</td>\n",
       "      <td>0</td>\n",
       "    </tr>\n",
       "    <tr>\n",
       "      <th>3</th>\n",
       "      <td>14</td>\n",
       "      <td>(13, 10)</td>\n",
       "      <td>(7, 7)</td>\n",
       "      <td>0</td>\n",
       "      <td>1</td>\n",
       "      <td>10</td>\n",
       "      <td>27</td>\n",
       "      <td>False</td>\n",
       "      <td>10</td>\n",
       "      <td>1</td>\n",
       "    </tr>\n",
       "    <tr>\n",
       "      <th>4</th>\n",
       "      <td>16</td>\n",
       "      <td>(3, 1)</td>\n",
       "      <td>(4, 4)</td>\n",
       "      <td>0</td>\n",
       "      <td>7</td>\n",
       "      <td>11</td>\n",
       "      <td>13</td>\n",
       "      <td>False</td>\n",
       "      <td>11</td>\n",
       "      <td>7</td>\n",
       "    </tr>\n",
       "    <tr>\n",
       "      <th>...</th>\n",
       "      <td>...</td>\n",
       "      <td>...</td>\n",
       "      <td>...</td>\n",
       "      <td>...</td>\n",
       "      <td>...</td>\n",
       "      <td>...</td>\n",
       "      <td>...</td>\n",
       "      <td>...</td>\n",
       "      <td>...</td>\n",
       "      <td>...</td>\n",
       "    </tr>\n",
       "    <tr>\n",
       "      <th>902</th>\n",
       "      <td>909</td>\n",
       "      <td>(10, 11)</td>\n",
       "      <td>(1, 12)</td>\n",
       "      <td>876</td>\n",
       "      <td>878</td>\n",
       "      <td>894</td>\n",
       "      <td>18</td>\n",
       "      <td>False</td>\n",
       "      <td>18</td>\n",
       "      <td>2</td>\n",
       "    </tr>\n",
       "    <tr>\n",
       "      <th>903</th>\n",
       "      <td>900</td>\n",
       "      <td>(10, 10)</td>\n",
       "      <td>(9, 9)</td>\n",
       "      <td>869</td>\n",
       "      <td>883</td>\n",
       "      <td>895</td>\n",
       "      <td>24</td>\n",
       "      <td>False</td>\n",
       "      <td>26</td>\n",
       "      <td>14</td>\n",
       "    </tr>\n",
       "    <tr>\n",
       "      <th>904</th>\n",
       "      <td>904</td>\n",
       "      <td>(4, 6)</td>\n",
       "      <td>(14, 1)</td>\n",
       "      <td>872</td>\n",
       "      <td>873</td>\n",
       "      <td>895</td>\n",
       "      <td>13</td>\n",
       "      <td>False</td>\n",
       "      <td>23</td>\n",
       "      <td>1</td>\n",
       "    </tr>\n",
       "    <tr>\n",
       "      <th>905</th>\n",
       "      <td>902</td>\n",
       "      <td>(2, 13)</td>\n",
       "      <td>(9, 5)</td>\n",
       "      <td>869</td>\n",
       "      <td>881</td>\n",
       "      <td>899</td>\n",
       "      <td>10</td>\n",
       "      <td>False</td>\n",
       "      <td>30</td>\n",
       "      <td>12</td>\n",
       "    </tr>\n",
       "    <tr>\n",
       "      <th>906</th>\n",
       "      <td>912</td>\n",
       "      <td>(4, 2)</td>\n",
       "      <td>(13, 12)</td>\n",
       "      <td>878</td>\n",
       "      <td>879</td>\n",
       "      <td>899</td>\n",
       "      <td>19</td>\n",
       "      <td>False</td>\n",
       "      <td>21</td>\n",
       "      <td>1</td>\n",
       "    </tr>\n",
       "  </tbody>\n",
       "</table>\n",
       "<p>907 rows × 10 columns</p>\n",
       "</div>"
      ],
      "text/plain": [
       "     task_id     start       end  in_time  assign_time  complete_time  car_id  \\\n",
       "0          2   (1, 11)    (5, 9)        0            0              6      14   \n",
       "1         12   (7, 11)   (3, 13)        0            0              6      21   \n",
       "2          3   (13, 3)    (7, 6)        0            0              9      24   \n",
       "3         14  (13, 10)    (7, 7)        0            1             10      27   \n",
       "4         16    (3, 1)    (4, 4)        0            7             11      13   \n",
       "..       ...       ...       ...      ...          ...            ...     ...   \n",
       "902      909  (10, 11)   (1, 12)      876          878            894      18   \n",
       "903      900  (10, 10)    (9, 9)      869          883            895      24   \n",
       "904      904    (4, 6)   (14, 1)      872          873            895      13   \n",
       "905      902   (2, 13)    (9, 5)      869          881            899      10   \n",
       "906      912    (4, 2)  (13, 12)      878          879            899      19   \n",
       "\n",
       "     is_VIP  diff  diff_assign  \n",
       "0     False     6            0  \n",
       "1     False     6            0  \n",
       "2     False     9            0  \n",
       "3     False    10            1  \n",
       "4     False    11            7  \n",
       "..      ...   ...          ...  \n",
       "902   False    18            2  \n",
       "903   False    26           14  \n",
       "904   False    23            1  \n",
       "905   False    30           12  \n",
       "906   False    21            1  \n",
       "\n",
       "[907 rows x 10 columns]"
      ]
     },
     "execution_count": 3,
     "metadata": {},
     "output_type": "execute_result"
    }
   ],
   "source": [
    "df_TP = pd.read_csv('../tests/06/in_Central_out_TP.csv', delimiter=';')\n",
    "df_TP['diff'] = df_TP['complete_time'] - df_TP['in_time']\n",
    "df_TP['diff_assign'] = df_TP['assign_time'] - df_TP['in_time']\n",
    "\n",
    "df_TPTS = pd.read_csv('../tests/06/in_Central_out_TPTS.csv', delimiter=';')\n",
    "df_TPTS['diff'] = df_TPTS['complete_time'] - df_TPTS['in_time']\n",
    "df_TPTS['diff_assign'] = df_TPTS['assign_time'] - df_TPTS['in_time']\n",
    "\n",
    "df_central = pd.read_csv('../tests/06/in2_Central.csv', delimiter=';')\n",
    "df_central['diff'] = df_central['complete_time'] - df_central['in_time']\n",
    "df_central['diff_assign'] = df_central['assign_time'] - df_central['in_time']\n",
    "df_central"
   ]
  },
  {
   "cell_type": "code",
   "execution_count": 4,
   "metadata": {},
   "outputs": [
    {
     "data": {
      "text/plain": [
       "Text(0.5, 0, 'Doba úkolu v systému')"
      ]
     },
     "execution_count": 4,
     "metadata": {},
     "output_type": "execute_result"
    },
    {
     "data": {
      "image/png": "[encoded data removed]",
      "text/plain": [
       "<Figure size 432x288 with 1 Axes>"
      ]
     },
     "metadata": {},
     "output_type": "display_data"
    }
   ],
   "source": [
    "fig, ax = plt.subplots()\n",
    "\n",
    "ax3 = sns.distplot(df_TP['diff'], bins=40, label = 'TP')\n",
    "#ax.axvline(df_TP['diff'].median(), color = 'blue')\n",
    "\n",
    "ax2 = sns.distplot(df_TPTS['diff'], bins=40, label = 'TPTS')\n",
    "#ax.axvline(df_TPTS['diff'].median(), color = 'orange')\n",
    "\n",
    "ax1 = sns.distplot(df_central['diff'], bins=40, label = 'LCPD')\n",
    "#ax.axvline(df_central['diff'].median(), color = 'green')\n",
    "\n",
    "plt.legend()\n",
    "ax.set_xlabel('Doba úkolu v systému')\n",
    "#ax.get_figure().savefig(f't03_all.png', dpi=200)"
   ]
  },
  {
   "cell_type": "code",
   "execution_count": 13,
   "metadata": {},
   "outputs": [
    {
     "data": {
      "text/plain": [
       "Text(0.5, 0, 'Doba do vyzvenutí úkolu')"
      ]
     },
     "execution_count": 13,
     "metadata": {},
     "output_type": "execute_result"
    },
    {
     "data": {
      "image/png": "[encoded data removed]",
      "text/plain": [
       "<Figure size 432x288 with 1 Axes>"
      ]
     },
     "metadata": {},
     "output_type": "display_data"
    }
   ],
   "source": [
    "fig, ax = plt.subplots()\n",
    "ax3 = sns.distplot(df_TP['diff_assign'], bins=40, label = 'TP')\n",
    "ax2 = sns.distplot(df_TPTS['diff_assign'], bins=40, label = 'TPTS')\n",
    "ax1 = sns.distplot(df_central['diff_assign'], bins=40, label = 'LCPD')\n",
    "plt.legend()\n",
    "ax.set_xlabel('Doba do vyzvenutí úkolu')\n",
    "\n",
    "#ax.get_figure().savefig(f't03_pickup.png', dpi=200)"
   ]
  },
  {
   "cell_type": "code",
   "execution_count": 28,
   "metadata": {},
   "outputs": [
    {
     "data": {
      "text/plain": [
       "array([27, 31, 22, 52, 21, 49, 45, 16, 32, 13, 21,  9, 16, 15,  8, 28,  9,\n",
       "       24, 27, 44, 54, 19, 49, 19, 44, 23, 34, 24, 17, 21, 10, 17, 11, 18,\n",
       "       14,  3,  6,  2, 12,  1], dtype=int32)"
      ]
     },
     "metadata": {},
     "output_type": "display_data"
    },
    {
     "data": {
      "text/plain": [
       "array([ 0.   ,  1.575,  3.15 ,  4.725,  6.3  ,  7.875,  9.45 , 11.025,\n",
       "       12.6  , 14.175, 15.75 , 17.325, 18.9  , 20.475, 22.05 , 23.625,\n",
       "       25.2  , 26.775, 28.35 , 29.925, 31.5  , 33.075, 34.65 , 36.225,\n",
       "       37.8  , 39.375, 40.95 , 42.525, 44.1  , 45.675, 47.25 , 48.825,\n",
       "       50.4  , 51.975, 53.55 , 55.125, 56.7  , 58.275, 59.85 , 61.425,\n",
       "       63.   ])"
      ]
     },
     "metadata": {},
     "output_type": "display_data"
    }
   ],
   "source": [
    "#ax= df_central['diff_assign'].hist(bins=40)\n",
    "count, division = np.histogram(df_TPTS['diff_assign'],bins=40)\n",
    "display(count)\n",
    "display(division)"
   ]
  },
  {
   "cell_type": "code",
   "execution_count": 30,
   "metadata": {},
   "outputs": [
    {
     "data": {
      "text/plain": [
       "56.0"
      ]
     },
     "execution_count": 30,
     "metadata": {},
     "output_type": "execute_result"
    }
   ],
   "source": [
    "df_TP['diff_assign'].median()"
   ]
  },
  {
   "cell_type": "code",
   "execution_count": null,
   "metadata": {},
   "outputs": [],
   "source": []
  },
  {
   "cell_type": "code",
   "execution_count": null,
   "metadata": {},
   "outputs": [],
   "source": []
  },
  {
   "cell_type": "code",
   "execution_count": null,
   "metadata": {},
   "outputs": [],
   "source": []
  },
  {
   "cell_type": "code",
   "execution_count": null,
   "metadata": {},
   "outputs": [],
   "source": []
  },
  {
   "cell_type": "code",
   "execution_count": null,
   "metadata": {},
   "outputs": [],
   "source": []
  },
  {
   "cell_type": "code",
   "execution_count": null,
   "metadata": {},
   "outputs": [],
   "source": []
  },
  {
   "cell_type": "code",
   "execution_count": null,
   "metadata": {},
   "outputs": [],
   "source": []
  },
  {
   "cell_type": "code",
   "execution_count": 14,
   "metadata": {},
   "outputs": [
    {
     "data": {
      "image/png": "[encoded data removed]",
      "text/plain": [
       "<Figure size 432x288 with 1 Axes>"
      ]
     },
     "metadata": {},
     "output_type": "display_data"
    }
   ],
   "source": [
    "labels = [10, 20, 40]\n",
    "TP = [6143/209, 11976/418, 11976/547]\n",
    "TPTS = [5996/253, 11976/549, 11976/581]\n",
    "LCPD = [8489/321, 11976/554, 11976/674]\n",
    "\n",
    "x = np.arange(len(labels))  # the label locations\n",
    "width = 0.25  # the width of the bars\n",
    "\n",
    "fig, ax = plt.subplots()\n",
    "rects1 = ax.bar(x - width, TP, width, label='TP')\n",
    "rects2 = ax.bar(x , TPTS, width, label='TPTS')\n",
    "rects3 = ax.bar(x + width, LCPD, width, label='LCPD')\n",
    "\n",
    "# Add some text for labels, title and custom x-axis tick labels, etc.\n",
    "ax.set_ylabel('Průměrný počet kroků na úkol')\n",
    "ax.set_xlabel('Počet úkolů')\n",
    "ax.set_xticks(x)\n",
    "ax.yaxis.set_ticks(np.arange(0, 40, 5))\n",
    "ax.set_xticklabels(labels)\n",
    "ax.legend()\n",
    "ax.get_figure().savefig(f't02_moves.png', dpi=1200)"
   ]
  },
  {
   "cell_type": "code",
   "execution_count": 7,
   "metadata": {},
   "outputs": [
    {
     "name": "stdout",
     "output_type": "stream",
     "text": [
      "40.9926873857404\n",
      "38.6144578313253\n",
      "33.04154302670623\n"
     ]
    }
   ],
   "source": [
    "agents = 20\n",
    "tasks = 40\n",
    "tp_data = pd.read_csv(f'../tests/05/TP_a{agents}_t{tasks}.csv', delimiter=';')\n",
    "tp_data['diff'] = tp_data['complete_time'] - tp_data['in_time']\n",
    "print(tp_data['diff'].mean())\n",
    "\n",
    "tpts_data = pd.read_csv(f'../tests/05/TPTS_a{agents}_t{tasks}.csv', delimiter=';')\n",
    "tpts_data['diff'] = tpts_data['complete_time'] - tpts_data['in_time']\n",
    "print(tpts_data['diff'].mean())\n",
    "\n",
    "central_data = pd.read_csv(f'../tests/05/Central_a{agents}_t{tasks}.csv', delimiter=';')\n",
    "central_data['diff'] = central_data['complete_time'] - central_data['in_time']\n",
    "print(central_data['diff'].mean())"
   ]
  },
  {
   "cell_type": "code",
   "execution_count": 15,
   "metadata": {},
   "outputs": [
    {
     "data": {
      "image/png": "[encoded data removed]",
      "text/plain": [
       "<Figure size 432x288 with 1 Axes>"
      ]
     },
     "metadata": {},
     "output_type": "display_data"
    }
   ],
   "source": [
    "labels = [10, 20, 40]\n",
    "TP = [26.870813397129186, 27.124401913875598, 40.9926873857404]\n",
    "TPTS = [22.209486166007906, 20.451730418943534, 38.6144578313253]\n",
    "LCPD = [17.404984423676012, 20.10649819494585, 33.04154302670623]\n",
    "\n",
    "x = np.arange(len(labels))  # the label locations\n",
    "width = 0.25  # the width of the bars\n",
    "\n",
    "fig, ax = plt.subplots()\n",
    "rects1 = ax.bar(x - width, TP, width, label='TP')\n",
    "rects2 = ax.bar(x , TPTS, width, label='TPTS')\n",
    "rects3 = ax.bar(x + width, LCPD, width, label='LCPD')\n",
    "\n",
    "# Add some text for labels, title and custom x-axis tick labels, etc.\n",
    "ax.set_ylabel('Průměrný doba trvání úkolu')\n",
    "ax.set_xlabel('Počet úkolů')\n",
    "ax.set_xticks(x)\n",
    "ax.yaxis.set_ticks(np.arange(0, 40, 5))\n",
    "ax.set_xticklabels(labels)\n",
    "ax.legend()\n",
    "ax.get_figure().savefig(f't02_times.png', dpi=1200)"
   ]
  },
  {
   "cell_type": "code",
   "execution_count": 13,
   "metadata": {},
   "outputs": [
    {
     "data": {
      "text/html": [
       "<div>\n",
       "<style scoped>\n",
       "    .dataframe tbody tr th:only-of-type {\n",
       "        vertical-align: middle;\n",
       "    }\n",
       "\n",
       "    .dataframe tbody tr th {\n",
       "        vertical-align: top;\n",
       "    }\n",
       "\n",
       "    .dataframe thead th {\n",
       "        text-align: right;\n",
       "    }\n",
       "</style>\n",
       "<table border=\"1\" class=\"dataframe\">\n",
       "  <thead>\n",
       "    <tr style=\"text-align: right;\">\n",
       "      <th></th>\n",
       "      <th>task_id</th>\n",
       "      <th>in_time</th>\n",
       "      <th>assign_time</th>\n",
       "      <th>complete_time</th>\n",
       "      <th>car_id</th>\n",
       "      <th>diff</th>\n",
       "    </tr>\n",
       "  </thead>\n",
       "  <tbody>\n",
       "    <tr>\n",
       "      <th>count</th>\n",
       "      <td>581.000000</td>\n",
       "      <td>581.000000</td>\n",
       "      <td>581.000000</td>\n",
       "      <td>581.000000</td>\n",
       "      <td>581.000000</td>\n",
       "      <td>581.000000</td>\n",
       "    </tr>\n",
       "    <tr>\n",
       "      <th>mean</th>\n",
       "      <td>291.096386</td>\n",
       "      <td>261.972461</td>\n",
       "      <td>286.657487</td>\n",
       "      <td>300.586919</td>\n",
       "      <td>19.462995</td>\n",
       "      <td>38.614458</td>\n",
       "    </tr>\n",
       "    <tr>\n",
       "      <th>std</th>\n",
       "      <td>168.030009</td>\n",
       "      <td>169.404411</td>\n",
       "      <td>170.690660</td>\n",
       "      <td>170.831995</td>\n",
       "      <td>5.753028</td>\n",
       "      <td>9.321429</td>\n",
       "    </tr>\n",
       "    <tr>\n",
       "      <th>min</th>\n",
       "      <td>1.000000</td>\n",
       "      <td>0.000000</td>\n",
       "      <td>0.000000</td>\n",
       "      <td>5.000000</td>\n",
       "      <td>10.000000</td>\n",
       "      <td>5.000000</td>\n",
       "    </tr>\n",
       "    <tr>\n",
       "      <th>25%</th>\n",
       "      <td>146.000000</td>\n",
       "      <td>114.000000</td>\n",
       "      <td>139.000000</td>\n",
       "      <td>154.000000</td>\n",
       "      <td>14.000000</td>\n",
       "      <td>33.000000</td>\n",
       "    </tr>\n",
       "    <tr>\n",
       "      <th>50%</th>\n",
       "      <td>291.000000</td>\n",
       "      <td>261.000000</td>\n",
       "      <td>287.000000</td>\n",
       "      <td>301.000000</td>\n",
       "      <td>19.000000</td>\n",
       "      <td>39.000000</td>\n",
       "    </tr>\n",
       "    <tr>\n",
       "      <th>75%</th>\n",
       "      <td>436.000000</td>\n",
       "      <td>409.000000</td>\n",
       "      <td>434.000000</td>\n",
       "      <td>448.000000</td>\n",
       "      <td>24.000000</td>\n",
       "      <td>44.000000</td>\n",
       "    </tr>\n",
       "    <tr>\n",
       "      <th>max</th>\n",
       "      <td>589.000000</td>\n",
       "      <td>564.000000</td>\n",
       "      <td>595.000000</td>\n",
       "      <td>598.000000</td>\n",
       "      <td>29.000000</td>\n",
       "      <td>65.000000</td>\n",
       "    </tr>\n",
       "  </tbody>\n",
       "</table>\n",
       "</div>"
      ],
      "text/plain": [
       "          task_id     in_time  assign_time  complete_time      car_id  \\\n",
       "count  581.000000  581.000000   581.000000     581.000000  581.000000   \n",
       "mean   291.096386  261.972461   286.657487     300.586919   19.462995   \n",
       "std    168.030009  169.404411   170.690660     170.831995    5.753028   \n",
       "min      1.000000    0.000000     0.000000       5.000000   10.000000   \n",
       "25%    146.000000  114.000000   139.000000     154.000000   14.000000   \n",
       "50%    291.000000  261.000000   287.000000     301.000000   19.000000   \n",
       "75%    436.000000  409.000000   434.000000     448.000000   24.000000   \n",
       "max    589.000000  564.000000   595.000000     598.000000   29.000000   \n",
       "\n",
       "             diff  \n",
       "count  581.000000  \n",
       "mean    38.614458  \n",
       "std      9.321429  \n",
       "min      5.000000  \n",
       "25%     33.000000  \n",
       "50%     39.000000  \n",
       "75%     44.000000  \n",
       "max     65.000000  "
      ]
     },
     "execution_count": 13,
     "metadata": {},
     "output_type": "execute_result"
    }
   ],
   "source": [
    "tpts_data.describe()"
   ]
  },
  {
   "cell_type": "code",
   "execution_count": null,
   "metadata": {},
   "outputs": [],
   "source": []
  }
 ],
 "metadata": {
  "kernelspec": {
   "display_name": "Python 3",
   "language": "python",
   "name": "python3"
  },
  "language_info": {
   "codemirror_mode": {
    "name": "ipython",
    "version": 3
   },
   "file_extension": ".py",
   "mimetype": "text/x-python",
   "name": "python",
   "nbconvert_exporter": "python",
   "pygments_lexer": "ipython3",
   "version": "3.8.2"
  }
 },
 "nbformat": 4,
 "nbformat_minor": 4
}
